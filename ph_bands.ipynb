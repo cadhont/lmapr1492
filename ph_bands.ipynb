{
 "cells": [
  {
   "cell_type": "code",
   "execution_count": null,
   "id": "cd68dd4a",
   "metadata": {},
   "outputs": [],
   "source": [
    "from pymatgen.ext.matproj import MPRester\n",
    "from pymatgen.phonon.bandstructure import PhononBandStructureSymmLine\n",
    "import numpy as np\n",
    "from pymatgen.phonon.plotter import PhononBSPlotter\n",
    "from itertools import product\n",
    "from scipy.stats import linregress\n",
    "from pymatgen.core import Lattice\n",
    "from pymatgen.electronic_structure.bandstructure import Kpoint\n",
    "from pymatgen.core.structure import Structure\n",
    "from pymatgen.core.sites import Site\n"
   ]
  },
  {
   "cell_type": "code",
   "execution_count": null,
   "id": "ba545601",
   "metadata": {},
   "outputs": [],
   "source": [
    "m = MPRester(\"903fk7jExqhMBNCB46b\")\n",
    "structure = m.get_structure_by_material_id(\"mp-862947\")\n",
    "phonon_bs = m.get_phonon_bandstructure_by_material_id(\"mp-862947\")"
   ]
  },
  {
   "cell_type": "code",
   "execution_count": null,
   "id": "8d73603b",
   "metadata": {},
   "outputs": [],
   "source": [
    "#Créer le plot de la structure de bande de phonons et visualiser les branches acoustiques\n",
    "plotter = PhononBSPlotter(phonon_bs)\n",
    "plotter.show()"
   ]
  },
  {
   "cell_type": "code",
   "execution_count": null,
   "id": "124bb3f6",
   "metadata": {},
   "outputs": [],
   "source": [
    "### Je n'ai pas su résoudre les erreurs de ce code qui selon moi devrait fonctionner ###\n",
    "\n",
    "phonon_dict = phonon_bs.as_dict()\n",
    "print(phonon_dict['lattice_rec'])\n",
    "print(phonon_dict.keys())\n",
    "# Récupérer les fréquences à partir du dictionnaire phonon_dict\n",
    "frequencies = phonon_dict['bands'][0]\n",
    "qpoints = phonon_dict['qpoints']\n",
    "\n",
    "structure_dict = phonon_dict['structure']\n",
    "lattice_matrix = structure_dict['lattice']['matrix']\n",
    "sites = [Site.from_dict(site_dict) for site_dict in structure_dict['sites']]\n",
    "structure = Structure(lattice_matrix, sites)\n",
    "\n",
    "lattice_rec = structure.lattice.reciprocal_lattice\n",
    "\n",
    "kpoints = [Kpoint(q, lattice_rec) for q in qpoints]\n",
    "kpoints = [kp.as_dict() for kp in kpoints]\n",
    "\n",
    "directions = [('Gamma', 'X'), ('X', 'W'), ('W', 'K')]\n",
    "sym_points = ['Gamma', 'X', 'W', 'K']\n",
    "\n",
    "# Parcourir tous les q-points et trouver les directions recherchées\n",
    "for d in directions:\n",
    "    # Trouver les indices des q-points dans cette direction\n",
    "    indices = [i for i, q in enumerate(qpoints) if (q.label == d[0] and q.label_next == d[1])]\n",
    "    if len(indices) == 0:\n",
    "        print(f\"Direction {d} not found.\")\n",
    "    else:\n",
    "        # Extraire les fréquences pour ces q-points\n",
    "        freqs = np.array([frequencies[i] for i in indices])\n",
    "        slope = linregress(indices, freqs)\n",
    "        # Calculer la vitesse du son\n",
    "        vsound = slope.slope * 2 * np.pi * speed_of_sound / (2 * np.pi / np.linalg.norm(np.array(qpoints[indices[-1]].frac_coords) - np.array(qpoints[indices[0]].frac_coords)))\n",
    "        print(f\"Vitesse du son pour la direction {d}: {vsound:.2f} m/s\")\n"
   ]
  }
 ],
 "metadata": {
  "kernelspec": {
   "display_name": "Python 3",
   "language": "python",
   "name": "python3"
  },
  "language_info": {
   "codemirror_mode": {
    "name": "ipython",
    "version": 3
   },
   "file_extension": ".py",
   "mimetype": "text/x-python",
   "name": "python",
   "nbconvert_exporter": "python",
   "pygments_lexer": "ipython3",
   "version": "3.6.8"
  }
 },
 "nbformat": 4,
 "nbformat_minor": 5
}
