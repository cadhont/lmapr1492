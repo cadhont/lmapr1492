{
 "cells": [
  {
   "cell_type": "code",
   "execution_count": 1,
   "id": "c89da3d6",
   "metadata": {},
   "outputs": [],
   "source": [
    "from pymatgen.ext.matproj import MPRester\n",
    "from pymatgen.symmetry.analyzer import SpacegroupAnalyzer\n",
    "from jupyter_jsmol.pymatgen import quick_view\n",
    "import numpy as np"
   ]
  },
  {
   "cell_type": "code",
   "execution_count": 2,
   "id": "d4b7ce09",
   "metadata": {},
   "outputs": [],
   "source": [
    "#Téléchargement du fichier CIF\n",
    "API_KEY = \"903fk7jExqhMBNCB46b\"\n",
    "MP = \"mp-862947\"\n",
    "mpr = MPRester(API_KEY)\n",
    "structure = mpr.get_structure_by_material_id(MP, conventional_unit_cell = True)\n",
    "structureprimitive = SpacegroupAnalyzer(structure).get_primitive_standard_structure()\n",
    "structure.to(filename=\"mp-862947.cif\")"
   ]
  },
  {
   "cell_type": "code",
   "execution_count": 3,
   "id": "5f7242ea",
   "metadata": {
    "scrolled": true
   },
   "outputs": [
    {
     "data": {
      "application/vnd.jupyter.widget-view+json": {
       "model_id": "f8ff0d15715946829fd9ef8eefef64a5",
       "version_major": 2,
       "version_minor": 0
      },
      "text/plain": [
       "JsmolView(layout=Layout(align_self='stretch', height='400px'))"
      ]
     },
     "metadata": {},
     "output_type": "display_data"
    }
   ],
   "source": [
    "#Visualiser la structure du matériau\n",
    "view = quick_view(structure)\n",
    "view.script(\"set antialiasDisplay ON\")\n",
    "view.script(\"set zoomLarge false\")\n",
    "view.script(\"set cameraDepth 60\")\n",
    "display(view)"
   ]
  },
  {
   "cell_type": "code",
   "execution_count": 4,
   "id": "e70cc10d",
   "metadata": {},
   "outputs": [
    {
     "data": {
      "application/vnd.jupyter.widget-view+json": {
       "model_id": "9776df9e8b50489985a7342e7eb7c0f4",
       "version_major": 2,
       "version_minor": 0
      },
      "text/plain": [
       "JsmolView(layout=Layout(align_self='stretch', height='400px'))"
      ]
     },
     "metadata": {},
     "output_type": "display_data"
    }
   ],
   "source": [
    "#Visualiser la structure primitive du matériau\n",
    "view = quick_view(structureprimitive)\n",
    "view.script(\"set antialiasDisplay ON\")\n",
    "view.script(\"set zoomLarge false\")\n",
    "view.script(\"set cameraDepth 60\")\n",
    "display(view)"
   ]
  },
  {
   "cell_type": "code",
   "execution_count": 5,
   "id": "104d568e",
   "metadata": {},
   "outputs": [],
   "source": [
    "#Position de 3 atomes différents\n",
    "atom1 = {\"element\": \"Bi\", \"x\": 0.0, \"y\": 0.0, \"z\": 0.0}\n",
    "atom2 = {\"element\": \"Ba\", \"x\": 0.25, \"y\": 0.25, \"z\": 0.75}\n",
    "atom3 = {\"element\": \"Au\", \"x\": 0.5, \"y\": 0.0, \"z\": 0.0}\n",
    "atoms = [atom1, atom2, atom3]\n",
    "\n",
    "# éléments de symétrie\n",
    "miroirxy = np.array([[1, 0, 0], [0, -1, 0], [0, 0, -1]])  \n",
    "miroirxz = np.array([[-1, 0, 0], [0, 1, 0], [0, 0, -1]])  \n",
    "rotationz = np.array([[0, 0, 1], [0, 1, 0], [-1, 0, 0]])  \n",
    "\n",
    "# Liste de matrices de symétrie\n",
    "symmetries = [miroirxy, miroirxz, rotationz]"
   ]
  },
  {
   "cell_type": "code",
   "execution_count": 6,
   "id": "62d11b96",
   "metadata": {},
   "outputs": [],
   "source": [
    "def apply_and_display_symmetry(atom, symmetry, view):\n",
    "    # Récupérer les coordonnées de l'atome initial\n",
    "    x, y, z = atom[\"x\"], atom[\"y\"], atom[\"z\"]\n",
    "    \n",
    "    # Appliquer la rotation à l'atome\n",
    "    coords = np.array([[x], [y], [z]])\n",
    "    new_coords = np.dot(symmetry, coords)\n",
    "    new_x, new_y, new_z = new_coords.ravel().tolist()\n",
    "    \n",
    "    # Ajouter une sphère pour représenter le nouvel atome\n",
    "    view.script(f'spacefill @{new_x:.2f} @{new_y:.2f} @{new_z:.2f} color skyblue')\n",
    "    \n",
    "    # Ajouter une ligne reliant l'atome initial au nouvel atome\n",
    "    view.script(f'wireframe 0.2 {{( @{x:.2f} @{y:.2f} @{z:.2f} )}} {{( @{new_x:.2f} @{new_y:.2f} @{new_z:.2f} )}} color {atom[\"element\"]}')\n",
    "    \n",
    "    # Ajouter une étiquette pour le nouvel atome\n",
    "    view.script(f'label {atom[\"element\"]} {new_x:.2f} {new_y:.2f} {new_z:.2f} \"{atom[\"element\"]}{new_x:.2f}{new_y:.2f}{new_z:.2f}\"')\n",
    "    return {\"element\": atom[\"element\"], \"x\": new_x, \"y\": new_y, \"z\": new_z}\n"
   ]
  },
  {
   "cell_type": "code",
   "execution_count": 7,
   "id": "b601940f",
   "metadata": {},
   "outputs": [
    {
     "name": "stdout",
     "output_type": "stream",
     "text": [
      "[{'element': 'Bi', 'x': 0.0, 'y': 0.0, 'z': 0.0}, {'element': 'Ba', 'x': 0.25, 'y': 0.25, 'z': 0.75}, {'element': 'Au', 'x': 0.5, 'y': 0.0, 'z': 0.0}]\n",
      "NEW\n",
      "[{'element': 'Bi', 'x': 0.0, 'y': 0.0, 'z': 0.0}, {'element': 'Bi', 'x': 0.0, 'y': 0.0, 'z': 0.0}, {'element': 'Bi', 'x': 0.0, 'y': 0.0, 'z': 0.0}, {'element': 'Ba', 'x': 0.25, 'y': -0.25, 'z': -0.75}, {'element': 'Ba', 'x': -0.25, 'y': 0.25, 'z': -0.75}, {'element': 'Ba', 'x': 0.75, 'y': 0.25, 'z': -0.25}, {'element': 'Au', 'x': 0.5, 'y': 0.0, 'z': 0.0}, {'element': 'Au', 'x': -0.5, 'y': 0.0, 'z': 0.0}, {'element': 'Au', 'x': 0.0, 'y': 0.0, 'z': -0.5}]\n"
     ]
    }
   ],
   "source": [
    "new_atoms = []\n",
    "for i, atom in enumerate(atoms):\n",
    "    for j, symmetry in enumerate(symmetries):\n",
    "        new_atom = apply_and_display_symmetry(atom, symmetry, view)\n",
    "        new_atoms.append(new_atom)\n",
    "        # ajouter une flèche pour visualiser l'effet de symétrie\n",
    "        view.script(f\"draw symm {i*3+j+1} arrow {{0 0 0}} {{1 1 1}}\") \n",
    "print (atoms)\n",
    "print(\"NEW\")\n",
    "print (new_atoms)"
   ]
  },
  {
   "cell_type": "code",
   "execution_count": 8,
   "id": "229d87e3",
   "metadata": {},
   "outputs": [
    {
     "data": {
      "application/vnd.jupyter.widget-view+json": {
       "model_id": "9776df9e8b50489985a7342e7eb7c0f4",
       "version_major": 2,
       "version_minor": 0
      },
      "text/plain": [
       "JsmolView(layout=Layout(align_self='stretch', height='400px'))"
      ]
     },
     "metadata": {},
     "output_type": "display_data"
    }
   ],
   "source": [
    "# afficher les nouveaux atomes\n",
    "for i, atom in enumerate(new_atoms):\n",
    "    x, y, z = atom[\"x\"], atom[\"y\"], atom[\"z\"]\n",
    "    view.script(f'label {atom[\"element\"]} {x:.2f} {y:.2f} {z:.2f} \"{atom[\"element\"]}{x:.2f}{y:.2f}{z:.2f}\"')\n",
    "    view.script(f'spacefill {atom[\"element\"]} @{x:.2f} @{y:.2f} @{z:.2f}')\n",
    "    \n",
    "display(view)"
   ]
  }
 ],
 "metadata": {
  "kernelspec": {
   "display_name": "Python 3",
   "language": "python",
   "name": "python3"
  },
  "language_info": {
   "codemirror_mode": {
    "name": "ipython",
    "version": 3
   },
   "file_extension": ".py",
   "mimetype": "text/x-python",
   "name": "python",
   "nbconvert_exporter": "python",
   "pygments_lexer": "ipython3",
   "version": "3.6.8"
  }
 },
 "nbformat": 4,
 "nbformat_minor": 5
}
