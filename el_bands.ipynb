{
 "cells": [
  {
   "cell_type": "code",
   "execution_count": null,
   "id": "3384ddd2",
   "metadata": {},
   "outputs": [],
   "source": [
    "import numpy as np\n",
    "import matplotlib.pyplot as plt\n",
    "from pymatgen.ext.matproj import MPRester\n",
    "from pymatgen.electronic_structure.plotter import BSPlotter\n",
    "from pymatgen.io.cif import CifParser\n",
    "from pymatgen.electronic_structure.core import Spin\n",
    "from pymatgen.electronic_structure.bandstructure import BandStructureSymmLine\n",
    "from scipy.constants import hbar, elementary_charge\n",
    "from pymatgen.core.structure import Structure\n",
    "from pymatgen.electronic_structure.bandstructure import BandStructure\n",
    "import json"
   ]
  },
  {
   "cell_type": "code",
   "execution_count": null,
   "id": "d94ede2e",
   "metadata": {},
   "outputs": [],
   "source": [
    "with MPRester(\"903fk7jExqhMBNCB46b\") as m:\n",
    "    bandstructure = m.get_bandstructure_by_material_id(\"mp-862947\")"
   ]
  },
  {
   "cell_type": "code",
   "execution_count": null,
   "id": "e0c8098a",
   "metadata": {},
   "outputs": [],
   "source": [
    "#Détermination de la bande interdite\n",
    "band_gap = bandstructure.get_band_gap()\n",
    "print(\"Bande interdite : \", band_gap['energy'], \"eV\")"
   ]
  },
  {
   "cell_type": "code",
   "execution_count": null,
   "id": "0286e258",
   "metadata": {},
   "outputs": [],
   "source": [
    "bsplot = BSPlotter(bandstructure)\n",
    "bsplot.get_plot()"
   ]
  },
  {
   "cell_type": "code",
   "execution_count": null,
   "id": "5d3129bb",
   "metadata": {
    "scrolled": true
   },
   "outputs": [],
   "source": [
    "### Cette partie du code ne fonctionne pas mais je n'ai pas su résoudre l'erreur dans les temps ###\n",
    "\n",
    "# Obtenir les données de la bande de valence et de conduction\n",
    "vbm_data = bandstructure.get_vbm()\n",
    "cbm_data = bandstructure.get_cbm()\n",
    "vbm_energy = vbm_data[\"energy\"]\n",
    "cbm_energy = cbm_data[\"energy\"]\n",
    "\n",
    "#dispersion pour chaque bande\n",
    "valence_band_dispersion = [max(band[\"energy\"]) - min(band[\"energy\"]) for band in vbm_data[\"bands\"]]\n",
    "conduction_band_dispersion = [max(band[\"energy\"]) - min(band[\"energy\"]) for band in cbm_data[\"band_index\"]]\n",
    "\n",
    "#Calculer les max et min\n",
    "valence_max_dispersion_index = valence_band_dispersion.index(max(valence_band_dispersion))\n",
    "valence_min_dispersion_index = valence_band_dispersion.index(min(valence_band_dispersion))\n",
    "conduction_max_dispersion_index = conduction_band_dispersion.index(max(conduction_band_dispersion))\n",
    "conduction_min_dispersion_index = conduction_band_dispersion.index(min(conduction_band_dispersion))\n",
    "\n",
    "\n",
    "print(\"Direction de la plus grande dispersion de la bande de valence : \", vbm_data[\"kpoints\"][valence_max_dispersion_index])\n",
    "print(\"Direction de la plus petite dispersion de la bande de valence : \", vbm_data[\"kpoints\"][valence_min_dispersion_index])\n",
    "print(\"Direction de la plus grande dispersion de la bande de conduction : \", cbm_data[\"kpoints\"][conduction_max_dispersion_index])\n",
    "print(\"Direction de la plus petite dispersion de la bande de conduction : \", cbm_data[\"kpoints\"][conduction_min_dispersion_index])"
   ]
  },
  {
   "cell_type": "code",
   "execution_count": null,
   "id": "77e8fa41",
   "metadata": {
    "scrolled": true
   },
   "outputs": [],
   "source": [
    "### Je ne suis pas arrivée à créer le tableau énergies, j'ai essayé avec VASPRUN snas succès ###\n",
    "\n",
    "# On charge les données à partir d'un fichier JSON\n",
    "data = {\n",
    "    \"energy\": energies,\n",
    "    \"distances\": distances,\n",
    "    \"vbm\": vbm,\n",
    "    \"cbm\": cbm,\n",
    "    \"lattice_rec\": structure.reciprocal_lattice,\n",
    "    \"labels_dict\": labels_dict\n",
    "}\n",
    "\n",
    "bs = BandStructureSymmLine.from_dict(data)\n",
    "bsplot = BSPlotter(bs)\n",
    "\n",
    "# On récupère les données de la bande\n",
    "data = bsplot.bs_plot_data()\n",
    "\n",
    "# On récupère l'énergie du maximum de la dernière bande de valence (en eV) et le vecteur d'onde correspondant\n",
    "cbm = bs.get_cbm()\n",
    "E0 = cbm[\"energy\"]\n",
    "k0 = cbm[\"kpoint\"].frac_coords\n",
    "\n",
    "# On définit les constantes physiques nécessaires\n",
    "m0 = 9.10938356e-31  # masse de l'électron (en kg)\n",
    "a = bs.structure.lattice.matrix[0, 0] * 1e-10  # constante de maille (en m)\n",
    "hbar = 1.0545718e-34  # constante de Planck réduite (en J.s)\n",
    "eV = 1.60218e-19  # conversion eV -> J\n",
    "\n",
    "# On calcule la masse effective parabolique\n",
    "me = hbar**2 * np.sum(k0**2) / (2 * m0 * a**2 * E0 * eV)\n",
    "print(\"Masse effective parabolique : {:.3} m_e\".format(me))"
   ]
  }
 ],
 "metadata": {
  "kernelspec": {
   "display_name": "Python 3",
   "language": "python",
   "name": "python3"
  },
  "language_info": {
   "codemirror_mode": {
    "name": "ipython",
    "version": 3
   },
   "file_extension": ".py",
   "mimetype": "text/x-python",
   "name": "python",
   "nbconvert_exporter": "python",
   "pygments_lexer": "ipython3",
   "version": "3.6.8"
  }
 },
 "nbformat": 4,
 "nbformat_minor": 5
}
