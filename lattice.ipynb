{
 "cells": [
  {
   "cell_type": "code",
   "execution_count": 11,
   "id": "97864388",
   "metadata": {},
   "outputs": [],
   "source": [
    "from pymatgen.ext.matproj import MPRester\n",
    "from pymatgen.symmetry.analyzer import SpacegroupAnalyzer"
   ]
  },
  {
   "cell_type": "code",
   "execution_count": 12,
   "id": "5ed66cb7",
   "metadata": {},
   "outputs": [],
   "source": [
    "API_KEY = \"903fk7jExqhMBNCB46b\"\n",
    "MP = \"mp-862947\"\n",
    "\n",
    "#On définit le matériau:\n",
    "mpr = MPRester(API_KEY)"
   ]
  },
  {
   "cell_type": "code",
   "execution_count": 13,
   "id": "74198ca6",
   "metadata": {},
   "outputs": [],
   "source": [
    "#Structure du matériau\n",
    "structure = mpr.get_structure_by_material_id(MP, conventional_unit_cell = True)\n",
    "structure.to(filename=\"mp-862947.cif\")"
   ]
  },
  {
   "cell_type": "code",
   "execution_count": 14,
   "id": "ad6d5287",
   "metadata": {},
   "outputs": [
    {
     "name": "stdout",
     "output_type": "stream",
     "text": [
      "Vecteurs de base du réseau direct:\n",
      "8.423758 0.000000 0.000000\n",
      "0.000000 8.423758 0.000000\n",
      "0.000000 0.000000 8.423758\n",
      "\n",
      "Vecteurs de base du réseau réciproque:\n",
      "0.745889 -0.000000 0.000000\n",
      "0.000000 0.745889 0.000000\n",
      "-0.000000 -0.000000 0.745889\n"
     ]
    }
   ],
   "source": [
    "# Vecteurs de base du réseau direct\n",
    "print(\"Vecteurs de base du réseau direct:\")\n",
    "print(structure.lattice)\n",
    "\n",
    "# Vecteurs de base du réseau réciproque\n",
    "print(\"\\nVecteurs de base du réseau réciproque:\")\n",
    "print(structure.lattice.reciprocal_lattice)\n"
   ]
  },
  {
   "cell_type": "code",
   "execution_count": 15,
   "id": "d4680e02",
   "metadata": {},
   "outputs": [
    {
     "name": "stdout",
     "output_type": "stream",
     "text": [
      "\n",
      "Maille: cubic\n",
      "Système cristallin: cubic\n",
      "Groupe ponctuel: m-3m\n"
     ]
    }
   ],
   "source": [
    "# AMaille, système cristallin et groupe ponctuel \n",
    "analyzer = SpacegroupAnalyzer(structure)\n",
    "print(\"\\nMaille:\", analyzer.get_lattice_type())\n",
    "print(\"Système cristallin:\", analyzer.get_crystal_system())\n",
    "print(\"Groupe ponctuel:\", analyzer.get_point_group_symbol())\n"
   ]
  }
 ],
 "metadata": {
  "kernelspec": {
   "display_name": "Python 3",
   "language": "python",
   "name": "python3"
  },
  "language_info": {
   "codemirror_mode": {
    "name": "ipython",
    "version": 3
   },
   "file_extension": ".py",
   "mimetype": "text/x-python",
   "name": "python",
   "nbconvert_exporter": "python",
   "pygments_lexer": "ipython3",
   "version": "3.6.8"
  }
 },
 "nbformat": 4,
 "nbformat_minor": 5
}
