{
 "cells": [
  {
   "cell_type": "code",
   "execution_count": 11,
   "id": "bc32049d",
   "metadata": {},
   "outputs": [],
   "source": [
    "import mpmath as mp\n",
    "import numpy as np\n",
    "import matplotlib.pyplot as plt\n",
    "from pymatgen import MPRester\n",
    "from pymatgen import Structure"
   ]
  },
  {
   "cell_type": "code",
   "execution_count": 12,
   "id": "229fb94a",
   "metadata": {},
   "outputs": [],
   "source": [
    "#Téléchargement du fichier CIF\n",
    "API_KEY = \"903fk7jExqhMBNCB46b\"\n",
    "MP = \"mp-862947\"\n",
    "mpr = MPRester(API_KEY)\n",
    "structure = mpr.get_structure_by_material_id(MP, conventional_unit_cell = True)\n",
    "#structureprimitive = SpacegroupAnalyzer(structure).get_primitive_standard_structure()\n",
    "structure.to(filename=\"mp-862947.cif\")"
   ]
  },
  {
   "cell_type": "code",
   "execution_count": 13,
   "id": "9f8a1da5",
   "metadata": {},
   "outputs": [
    {
     "name": "stdout",
     "output_type": "stream",
     "text": [
      "Pic de diffraction: (1, 0, 0) (ordre 1), angle = 5.2 degrés\n",
      "Pic de diffraction: (1, 1, 0) (ordre 1), angle = 7.4 degrés\n",
      "Pic de diffraction: (0, 0, 2) (ordre 1), angle = 11.0 degrés\n"
     ]
    }
   ],
   "source": [
    "l = 1.54060\n",
    "dhkl = np.array([structure.lattice.d_hkl(hkl) for hkl in [(1,0,0), (0,0,2), (1,1,0)]])\n",
    "\n",
    "angles = []\n",
    "for n in range(1, 4):\n",
    "    for i, hkl in enumerate([(1,0,0), (0,0,2), (1,1,0)]):\n",
    "        theta = mp.asin(n * l / (2 * dhkl[i]))\n",
    "        angle_deg = mp.degrees(theta)\n",
    "        angles.append((hkl, n, angle_deg))\n",
    "\n",
    "angles = sorted(angles, key=lambda x: x[2])\n",
    "\n",
    "# Afficher les 3 premiers pics de diffraction\n",
    "for hkl, n, angle_deg in angles[:3]:\n",
    "    print(f\"Pic de diffraction: {hkl} (ordre {n}), angle = {mp.nstr(angle_deg, 2)} degrés\")"
   ]
  },
  {
   "cell_type": "code",
   "execution_count": 14,
   "id": "443b919d",
   "metadata": {},
   "outputs": [
    {
     "data": {
      "image/png": "[encoded data removed]",
      "text/plain": [
       "<Figure size 432x288 with 1 Axes>"
      ]
     },
     "metadata": {
      "needs_background": "light"
     },
     "output_type": "display_data"
    },
    {
     "data": {
      "image/png": "[encoded data removed]",
      "text/plain": [
       "<Figure size 576x432 with 1 Axes>"
      ]
     },
     "metadata": {
      "needs_background": "light"
     },
     "output_type": "display_data"
    }
   ],
   "source": [
    "# Paramètres cristallins\n",
    "a = 8.42375800\n",
    "b = 8.42375800\n",
    "c = 8.42375800\n",
    "alpha = 90.00000000\n",
    "beta = 90.00000000\n",
    "gamma = 90.00000000\n",
    "\n",
    "l = 1.5406\n",
    "\n",
    "def bragg_angle(n, d):\n",
    "    return np.degrees(np.arcsin(n * l / (2 * d)))\n",
    "\n",
    "# Calcul des distances interplanaires d_hkl\n",
    "d_100 = a / np.sqrt(1**2)\n",
    "d_110 = a / np.sqrt(1**2 + 1**2)\n",
    "d_002 = c / np.sqrt(2**2)\n",
    "\n",
    "# Calcul des angles de Bragg\n",
    "angles = np.linspace(0, 90, 1000)\n",
    "bragg_100 = bragg_angle(1, d_100)\n",
    "bragg_110 = bragg_angle(1, d_110)\n",
    "bragg_002 = bragg_angle(1, d_002)\n",
    "\n",
    "plt.plot(angles, np.ones_like(angles) * bragg_100, label='(1, 0, 0)')\n",
    "plt.plot(angles, np.ones_like(angles) * bragg_110, label='(1, 1, 0)')\n",
    "plt.plot(angles, np.ones_like(angles) * bragg_002, label='(0, 0, 2)')\n",
    "plt.xlabel('Angle de diffusion (degrés)')\n",
    "plt.ylabel('Intensité (u.a.)')\n",
    "plt.legend()\n",
    "plt.show()\n",
    "\n",
    "\n",
    "# Paramètres du cristal\n",
    "hkl = [(1, 0, 0), (1, 1, 0), (0, 0, 2)]  \n",
    "theta = []  \n",
    "\n",
    "# Calcul des angles de Bragg pour chaque plan \n",
    "for i in range(len(hkl)):\n",
    "    d = a / np.sqrt(hkl[i][0]**2 + hkl[i][1]**2 + hkl[i][2]**2) \n",
    "    theta.append(np.degrees(np.arcsin(l / (2 * d))))  \n",
    "\n",
    "plt.figure(figsize=(8,6))\n",
    "plt.plot(theta, [1]*len(theta), '|', markersize=50)\n",
    "plt.xlabel('Angle de Bragg (degrés)')\n",
    "plt.ylabel('Intensité')\n",
    "plt.title('Diagramme de diffraction de ' + 'Ba2BiAu')\n",
    "plt.show()"
   ]
  }
 ],
 "metadata": {
  "kernelspec": {
   "display_name": "Python 3",
   "language": "python",
   "name": "python3"
  },
  "language_info": {
   "codemirror_mode": {
    "name": "ipython",
    "version": 3
   },
   "file_extension": ".py",
   "mimetype": "text/x-python",
   "name": "python",
   "nbconvert_exporter": "python",
   "pygments_lexer": "ipython3",
   "version": "3.6.8"
  }
 },
 "nbformat": 4,
 "nbformat_minor": 5
}
