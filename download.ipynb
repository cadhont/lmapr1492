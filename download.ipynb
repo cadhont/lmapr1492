{
 "cells": [
  {
   "cell_type": "code",
   "execution_count": null,
   "id": "332ecac4",
   "metadata": {},
   "outputs": [],
   "source": [
    "from pymatgen.ext.matproj import MPRester"
   ]
  },
  {
   "cell_type": "code",
   "execution_count": null,
   "id": "3bd03bed",
   "metadata": {},
   "outputs": [],
   "source": [
    "API_KEY = \"903fk7jExqhMBNCB46b\"\n",
    "MP = \"mp-862947\"\n",
    "\n",
    "#On définit le matériau:\n",
    "mpr = MPRester(API_KEY)"
   ]
  },
  {
   "cell_type": "code",
   "execution_count": null,
   "id": "62fa0019",
   "metadata": {},
   "outputs": [],
   "source": [
    "#recolter les data\n",
    "structure_cif = mpr.get_data(MP, data_type = '', prop = 'cif')\n",
    "#print(structure_cif)"
   ]
  },
  {
   "cell_type": "code",
   "execution_count": null,
   "id": "52fba6b0",
   "metadata": {},
   "outputs": [],
   "source": [
    "with open(\"{}.cif\".format(MP), \"w\") as cif:\n",
    "    cif.write(structure_cif)"
   ]
  },
  {
   "cell_type": "code",
   "execution_count": null,
   "id": "789e8fe9",
   "metadata": {},
   "outputs": [],
   "source": []
  }
 ],
 "metadata": {
  "kernelspec": {
   "display_name": "Python 3",
   "language": "python",
   "name": "python3"
  },
  "language_info": {
   "codemirror_mode": {
    "name": "ipython",
    "version": 3
   },
   "file_extension": ".py",
   "mimetype": "text/x-python",
   "name": "python",
   "nbconvert_exporter": "python",
   "pygments_lexer": "ipython3",
   "version": "3.6.8"
  }
 },
 "nbformat": 4,
 "nbformat_minor": 5
}
