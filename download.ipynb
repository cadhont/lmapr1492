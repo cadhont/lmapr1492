{
 "cells": [
  {
   "cell_type": "code",
   "execution_count": 1,
   "id": "332ecac4",
   "metadata": {},
   "outputs": [],
   "source": [
    "from pymatgen.ext.matproj import MPRester"
   ]
  },
  {
   "cell_type": "code",
   "execution_count": 2,
   "id": "3bd03bed",
   "metadata": {},
   "outputs": [],
   "source": [
    "API_KEY = \"903fk7jExqhMBNCB46b\"\n",
    "MP = \"mp-862947\"\n",
    "\n",
    "#On définit le matériau:\n",
    "mpr = MPRester(API_KEY)"
   ]
  },
  {
   "cell_type": "code",
   "execution_count": 3,
   "id": "27e9e9a2",
   "metadata": {},
   "outputs": [],
   "source": [
    "#Téléchargement\n",
    "structure = mpr.get_structure_by_material_id(\"mp-862947\", conventional_unit_cell=True)\n",
    "structure.to(filename=\"mp-862947.cif\")"
   ]
  }
 ],
 "metadata": {
  "kernelspec": {
   "display_name": "Python 3",
   "language": "python",
   "name": "python3"
  },
  "language_info": {
   "codemirror_mode": {
    "name": "ipython",
    "version": 3
   },
   "file_extension": ".py",
   "mimetype": "text/x-python",
   "name": "python",
   "nbconvert_exporter": "python",
   "pygments_lexer": "ipython3",
   "version": "3.6.8"
  }
 },
 "nbformat": 4,
 "nbformat_minor": 5
}
